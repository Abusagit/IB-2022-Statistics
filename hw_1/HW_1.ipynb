{
 "cells": [
  {
   "cell_type": "markdown",
   "id": "445e0c99",
   "metadata": {},
   "source": [
    "# Задание 1\n",
    "\n",
    "\n",
    "Так как $X_{[n]}$ - это n-ая порядковая статистика, то его можно записать как $X_{[n]} = max_i(X_i)$. Найдём функцию распределения $X_{[n]}$ и покажем, что она не равна функции распределения $X_1$.\n",
    "\n",
    "В следующем уравнении воспользуемся независимостью и одинаковой распределённостью случайных величин $X_i$\n",
    "$$\n",
    "\\begin{align}\n",
    "    P(X_{[n]} < t) &= P(max_i(X_i) < t) = P(X_1 < t, X_2 < t, \\dots, X_n < t) = \\\\\n",
    "    &= \\prod_{i=1}^{n}P(X_i < t) = (P(X_1 < t))^n \\ne P(X_1 < t)\n",
    "\\end{align}\n",
    "$$\n",
    "### Доказано"
   ]
  },
  {
   "cell_type": "markdown",
   "id": "ccc29a27",
   "metadata": {},
   "source": [
    "# Задание 2\n",
    "\n",
    "\\usepackage{mathtools}\n",
    "\\usepackage{dsfont}\n",
    "$$\n",
    "\n",
    "\\newcommand{\\set}[3]{\\left\\{ #1 \\in #2 \\vert #3 \\right\\} }\n",
    "\\newcommand{\\E}{\\mathbf{E}}\n",
    "\\newcommand{\\D}{\\mathbf{D}}\n",
    "$$\n",
    "\n",
    "## 2.1\n",
    "Воспользуемся линейностью матожидания, независимостью и одинаковой распределённостью случайных величин-индикаторов и свойством матожидания индикаторной функции:\n",
    "\n",
    "\n",
    "\\begin{align}\n",
    "    \\E[F_n(y)] &= \\E\\l[\\frac{\\sum_{i=1}^{n}\\mathds{1}(X_i < y)}{n}\\r] = \\\\\n",
    "    &= \\frac{1}{n} * \\sum_{i=1}^n\\E[\\mathds{1}(X_i < y)] = \\\\\n",
    "    &= \\E[\\mathds{1}(X_1 < y)] = \\\\\n",
    "    &= P(X_1 < y) = F(y)\n",
    "\\end{align}\n",
    "\n",
    "## 2.2\n",
    "Воспользуемся свойствами дисперсии и тем, что дисперсия суммы независимых случайных величин есть сумма дисперсий\n",
    "\n",
    "\\begin{align}\n",
    "    \\D[F_n(y)] &= \\D\\l[\\frac{\\sum_{i=1}^{n}\\mathds{1}(X_i < y)}{n}\\r] = \\\\\n",
    "    &= \\frac{1}{n^2} \\D\\l[\\sum_{i=1}^{n}\\mathds{1}(X_i < y)\\r] = \\\\\n",
    "    &= \\frac{1}{n^2} \\sum_{i=1}^{n}\\D[\\mathds{1}(X_i < y)] = \\\\\n",
    "    &= \\frac{1}{n^2} * n * F(y)* (1 - F(y)) = \\\\\n",
    "    &= \\frac{F(y)(1-F(y))}{n}\n",
    "\\end{align}\n",
    "\n",
    "## 2.3"
   ]
  },
  {
   "cell_type": "markdown",
   "id": "ade0f078",
   "metadata": {},
   "source": [
    "# Задание 3\n",
    "\n",
    "$$Y_i = F(X_i) = 0 \\iff X_i = 0 \\implies P(Y_i = 0) = P(X_i = 0) = 1 - p$$\n",
    "\n",
    "$$Y_i = F(X_i) = 1 - p \\iff X_i = 1 \\implies P(Y_i = 1-p) = P(X_i = 1) = p$$\n",
    "\n",
    "Из этого следует, что распределение $Y_i$ выглядит следующим образом:\n",
    "$$P(Y_i = 1-p) = p$$\n",
    "$$P(Y_i = 0) = 1 - p$$"
   ]
  },
  {
   "cell_type": "markdown",
   "id": "3751e262",
   "metadata": {},
   "source": [
    "# Задание 4\n",
    "\n",
    "Исследуем сходимость таких выборочных характеристик, как выборочная дисперсия и выборочное среднее, к генеральному среднему и дисперсии. Для этого будем генерировать наборы из известного распределения случайным образом различного размера и показывать сходимость."
   ]
  },
  {
   "cell_type": "code",
   "execution_count": 1,
   "id": "53ade7bb",
   "metadata": {},
   "outputs": [],
   "source": [
    "import numpy as np\n",
    "import matplotlib.pyplot as plt\n",
    "import seaborn as sns\n"
   ]
  },
  {
   "cell_type": "code",
   "execution_count": null,
   "id": "f62a73b4",
   "metadata": {},
   "outputs": [],
   "source": []
  }
 ],
 "metadata": {
  "kernelspec": {
   "display_name": "Python 3 (ipykernel)",
   "language": "python",
   "name": "python3"
  },
  "language_info": {
   "codemirror_mode": {
    "name": "ipython",
    "version": 3
   },
   "file_extension": ".py",
   "mimetype": "text/x-python",
   "name": "python",
   "nbconvert_exporter": "python",
   "pygments_lexer": "ipython3",
   "version": "3.8.12"
  }
 },
 "nbformat": 4,
 "nbformat_minor": 5
}
